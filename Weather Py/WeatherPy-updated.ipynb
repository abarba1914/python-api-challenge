{
 "cells": [
  {
   "cell_type": "markdown",
   "metadata": {},
   "source": [
    "# WeatherPy\n",
    "----\n",
    "\n",
    "#### Note\n",
    "* Instructions have been included for each segment. You do not have to follow them exactly, but they are included to help you think through the steps."
   ]
  },
  {
   "cell_type": "code",
   "execution_count": 1,
   "metadata": {
    "scrolled": true
   },
   "outputs": [],
   "source": [
    "# Dependencies and Setup\n",
    "import matplotlib.pyplot as plt\n",
    "import pandas as pd\n",
    "import numpy as np\n",
    "import requests\n",
    "import time\n",
    "import datetime\n",
    "from scipy.stats import linregress\n",
    "%matplotlib inline\n",
    "\n",
    "# Import API key\n",
    "from api_keys import weather_api_key\n",
    "\n",
    "# Incorporated citipy to determine city based on latitude and longitude\n",
    "from citipy import citipy\n",
    "\n",
    "# Output File (CSV)\n",
    "output_data_file = \"output_data/cities.csv\"\n",
    "\n",
    "# Range of latitudes and longitudes\n",
    "lat_range = (-90, 90)\n",
    "lng_range = (-180, 180)"
   ]
  },
  {
   "cell_type": "markdown",
   "metadata": {},
   "source": [
    "## Generate Cities List"
   ]
  },
  {
   "cell_type": "code",
   "execution_count": 2,
   "metadata": {},
   "outputs": [
    {
     "data": {
      "text/plain": [
       "610"
      ]
     },
     "execution_count": 2,
     "metadata": {},
     "output_type": "execute_result"
    }
   ],
   "source": [
    "# List for holding lat_lngs and cities\n",
    "lat_lngs = []\n",
    "cities = []\n",
    "\n",
    "# Create a set of random lat and lng combinations\n",
    "lats = np.random.uniform(lat_range[0], lat_range[1], size=1500)\n",
    "lngs = np.random.uniform(lng_range[0], lng_range[1], size=1500)\n",
    "lat_lngs = zip(lats, lngs)\n",
    "\n",
    "# Identify nearest city for each lat, lng combination\n",
    "for lat_lng in lat_lngs:\n",
    "    city = citipy.nearest_city(lat_lng[0], lat_lng[1]).city_name\n",
    "    \n",
    "    # If the city is unique, then add it to a our cities list\n",
    "    if city not in cities:\n",
    "        cities.append(city)\n",
    "\n",
    "# Print the city count to confirm sufficient count\n",
    "len(cities)"
   ]
  },
  {
   "cell_type": "code",
   "execution_count": 3,
   "metadata": {},
   "outputs": [],
   "source": [
    "# Save config information.\n",
    "url = \"http://api.openweathermap.org/data/2.5/weather?\"\n",
    "units = \"imperial\""
   ]
  },
  {
   "cell_type": "markdown",
   "metadata": {},
   "source": [
    "### Perform API Calls\n",
    "* Perform a weather check on each city using a series of successive API calls.\n",
    "* Include a print log of each city as it'sbeing processed (with the city number and city name).\n"
   ]
  },
  {
   "cell_type": "code",
   "execution_count": 4,
   "metadata": {},
   "outputs": [
    {
     "name": "stdout",
     "output_type": "stream",
     "text": [
      "------------------------\n",
      "Beginning Data Retrieval\n",
      "------------------------\n",
      "Processing record 1 of Set 0|arraial do cabo\n",
      "Processing record 2 of Set 0|vestmannaeyjar\n",
      "Processing record 3 of Set 0|natal\n",
      "Processing record 4 of Set 0|namatanai\n",
      "Processing record 5 of Set 0|kavaratti\n",
      "Processing record 6 of Set 0|triunfo\n",
      "Processing record 7 of Set 0|shatin\n",
      "Processing record 8 of Set 0|illoqqortoormiut\n",
      "City not found.\n",
      "Processing record 9 of Set 0|ust-tsilma\n",
      "Processing record 10 of Set 0|roebourne\n",
      "Processing record 11 of Set 0|xuddur\n",
      "Processing record 12 of Set 0|hobart\n",
      "Processing record 13 of Set 0|torbay\n",
      "Processing record 14 of Set 0|rikitea\n",
      "Processing record 15 of Set 0|dikson\n",
      "Processing record 16 of Set 0|albany\n",
      "Processing record 17 of Set 0|saint george\n",
      "Processing record 18 of Set 0|east london\n",
      "Processing record 19 of Set 0|mount gambier\n",
      "Processing record 20 of Set 0|emmett\n",
      "Processing record 21 of Set 0|punta arenas\n",
      "Processing record 22 of Set 0|malinovskiy\n",
      "Processing record 23 of Set 0|birin\n",
      "Processing record 24 of Set 0|kihei\n",
      "Processing record 25 of Set 0|busselton\n",
      "Processing record 26 of Set 0|kungurtug\n",
      "Processing record 27 of Set 0|kodiak\n",
      "Processing record 28 of Set 0|vaitupu\n",
      "City not found.\n",
      "Processing record 29 of Set 0|rocha\n",
      "Processing record 30 of Set 0|castro\n",
      "Processing record 31 of Set 0|vaini\n",
      "Processing record 32 of Set 0|kailua\n",
      "Processing record 33 of Set 0|minchinabad\n",
      "Processing record 34 of Set 0|arlit\n",
      "Processing record 35 of Set 0|yellowknife\n",
      "Processing record 36 of Set 0|san borja\n",
      "Processing record 37 of Set 0|mataura\n",
      "Processing record 38 of Set 0|lata\n",
      "Processing record 39 of Set 0|beloha\n",
      "Processing record 40 of Set 0|ushuaia\n",
      "Processing record 41 of Set 0|saint-philippe\n",
      "Processing record 42 of Set 0|tasiilaq\n",
      "Processing record 43 of Set 0|hithadhoo\n",
      "Processing record 44 of Set 0|puerto ayora\n",
      "Processing record 45 of Set 0|oriximina\n",
      "Processing record 46 of Set 0|hilo\n",
      "Processing record 47 of Set 0|katherine\n",
      "Processing record 48 of Set 0|lebu\n",
      "Processing record 49 of Set 0|amparafaravola\n",
      "Processing record 50 of Set 0|udachnyy\n",
      "Processing record 51 of Set 0|ergani\n",
      "Processing record 52 of Set 0|rivne\n",
      "Processing record 53 of Set 0|caravelas\n",
      "Processing record 54 of Set 0|fairbanks\n",
      "Processing record 55 of Set 0|ixtapa\n",
      "Processing record 56 of Set 0|esperance\n",
      "Processing record 57 of Set 0|puerto colombia\n",
      "Processing record 58 of Set 0|port hardy\n",
      "Processing record 59 of Set 0|kashi\n",
      "Processing record 60 of Set 0|avarua\n",
      "Processing record 61 of Set 0|port moresby\n",
      "Processing record 62 of Set 0|lavrentiya\n",
      "Processing record 63 of Set 0|bredasdorp\n",
      "Processing record 64 of Set 0|yulara\n",
      "Processing record 65 of Set 0|makakilo city\n",
      "Processing record 66 of Set 0|taolanaro\n",
      "City not found.\n",
      "Processing record 67 of Set 0|nikolskoye\n",
      "Processing record 68 of Set 0|bronnitsy\n",
      "Processing record 69 of Set 0|havre-saint-pierre\n",
      "Processing record 70 of Set 0|iqaluit\n",
      "Processing record 71 of Set 0|san vicente\n",
      "Processing record 72 of Set 0|terra santa\n",
      "Processing record 73 of Set 0|geraldton\n",
      "Processing record 74 of Set 0|masvingo\n",
      "Processing record 75 of Set 0|mitsamiouli\n",
      "Processing record 76 of Set 0|sawtell\n",
      "Processing record 77 of Set 0|quelimane\n",
      "Processing record 78 of Set 0|portland\n",
      "Processing record 79 of Set 0|cabo san lucas\n",
      "Processing record 80 of Set 0|barcelos\n",
      "Processing record 81 of Set 0|haiger\n",
      "Processing record 82 of Set 0|atuona\n",
      "Processing record 83 of Set 0|barentsburg\n",
      "City not found.\n",
      "Processing record 84 of Set 0|barrow\n",
      "Processing record 85 of Set 0|tres arroyos\n",
      "Processing record 86 of Set 0|leningradskiy\n",
      "Processing record 87 of Set 0|matagami\n",
      "Processing record 88 of Set 0|manado\n",
      "Processing record 89 of Set 0|tucupita\n",
      "Processing record 90 of Set 0|saskylakh\n",
      "Processing record 91 of Set 0|padang\n",
      "Processing record 92 of Set 0|new norfolk\n",
      "Processing record 93 of Set 0|port alfred\n",
      "Processing record 94 of Set 0|nome\n",
      "Processing record 95 of Set 0|marawi\n",
      "Processing record 96 of Set 0|bacolod\n",
      "Processing record 97 of Set 0|camacha\n",
      "Processing record 98 of Set 0|fortuna\n",
      "Processing record 99 of Set 0|angoche\n",
      "Processing record 100 of Set 0|jamestown\n",
      "Processing record 101 of Set 0|tahta\n",
      "Processing record 102 of Set 0|tuktoyaktuk\n",
      "Processing record 103 of Set 0|khatanga\n",
      "Processing record 104 of Set 0|port macquarie\n",
      "Processing record 105 of Set 0|saleaula\n",
      "City not found.\n",
      "Processing record 106 of Set 0|tiksi\n",
      "Processing record 107 of Set 0|laguna\n",
      "Processing record 108 of Set 0|upernavik\n",
      "Processing record 109 of Set 0|codrington\n",
      "Processing record 110 of Set 0|karratha\n",
      "Processing record 111 of Set 0|mingrelskaya\n",
      "Processing record 112 of Set 0|mantua\n",
      "Processing record 113 of Set 0|chihuahua\n",
      "Processing record 114 of Set 0|grand river south east\n",
      "City not found.\n",
      "Processing record 115 of Set 0|cape town\n",
      "Processing record 116 of Set 0|bluff\n",
      "Processing record 117 of Set 0|harper\n",
      "Processing record 118 of Set 0|methoni\n",
      "Processing record 119 of Set 0|blagoyevo\n",
      "Processing record 120 of Set 0|vostok\n",
      "Processing record 121 of Set 0|mezen\n",
      "Processing record 122 of Set 0|waipawa\n",
      "Processing record 123 of Set 0|boguchany\n",
      "Processing record 124 of Set 0|avera\n",
      "Processing record 125 of Set 0|nanortalik\n",
      "Processing record 126 of Set 0|salalah\n",
      "Processing record 127 of Set 0|bethel\n",
      "Processing record 128 of Set 0|port elizabeth\n",
      "Processing record 129 of Set 0|raudeberg\n",
      "Processing record 130 of Set 0|umea\n",
      "Processing record 131 of Set 0|hermanus\n",
      "Processing record 132 of Set 0|boa vista\n",
      "Processing record 133 of Set 0|matadi\n",
      "Processing record 134 of Set 0|rock sound\n",
      "Processing record 135 of Set 0|klaksvik\n",
      "Processing record 136 of Set 0|ponta do sol\n",
      "Processing record 137 of Set 0|la ronge\n",
      "Processing record 138 of Set 0|bardiyah\n",
      "Processing record 139 of Set 0|chapais\n",
      "Processing record 140 of Set 0|anadyr\n",
      "Processing record 141 of Set 0|ogulin\n",
      "Processing record 142 of Set 0|vladesti\n",
      "Processing record 143 of Set 0|jiangkou\n",
      "Processing record 144 of Set 0|rungata\n",
      "City not found.\n",
      "Processing record 145 of Set 0|kaitangata\n",
      "Processing record 146 of Set 0|airai\n",
      "Processing record 147 of Set 0|mys shmidta\n",
      "City not found.\n",
      "Processing record 148 of Set 0|adeje\n",
      "Processing record 149 of Set 0|kavieng\n",
      "Processing record 150 of Set 0|butaritari\n",
      "Processing record 151 of Set 0|kerteh\n",
      "City not found.\n",
      "Processing record 152 of Set 0|villa del rosario\n",
      "Processing record 153 of Set 0|zhicheng\n",
      "Processing record 154 of Set 0|nagar karnul\n",
      "Processing record 155 of Set 0|richards bay\n",
      "Processing record 156 of Set 0|chingola\n",
      "Processing record 157 of Set 0|faanui\n",
      "Processing record 158 of Set 0|coro\n",
      "Processing record 159 of Set 0|half moon bay\n",
      "Processing record 160 of Set 0|bengkulu\n",
      "Processing record 161 of Set 0|henties bay\n",
      "Processing record 162 of Set 0|silifke\n",
      "Processing record 163 of Set 0|sao filipe\n",
      "Processing record 164 of Set 0|amderma\n",
      "City not found.\n",
      "Processing record 165 of Set 0|emerald\n",
      "Processing record 166 of Set 0|beringovskiy\n",
      "Processing record 167 of Set 0|sentyabrskiy\n",
      "City not found.\n",
      "Processing record 168 of Set 0|white rock\n",
      "Processing record 169 of Set 0|menongue\n",
      "Processing record 170 of Set 0|toftir\n",
      "City not found.\n",
      "Processing record 171 of Set 0|kapaa\n",
      "Processing record 172 of Set 0|luderitz\n",
      "Processing record 173 of Set 0|phangnga\n",
      "Processing record 174 of Set 0|carnarvon\n",
      "Processing record 175 of Set 0|zharkent\n",
      "Processing record 176 of Set 0|tautira\n",
      "Processing record 177 of Set 0|fevralsk\n",
      "City not found.\n",
      "Processing record 178 of Set 0|grand gaube\n",
      "Processing record 179 of Set 0|narsaq\n",
      "Processing record 180 of Set 0|dunedin\n",
      "Processing record 181 of Set 0|san juan\n",
      "Processing record 182 of Set 0|rockhampton\n",
      "Processing record 183 of Set 0|norman wells\n",
      "Processing record 184 of Set 0|susangerd\n",
      "Processing record 185 of Set 0|kyzyl-suu\n",
      "Processing record 186 of Set 0|quatre cocos\n",
      "Processing record 187 of Set 0|pisco\n",
      "Processing record 188 of Set 0|hambantota\n",
      "Processing record 189 of Set 0|belushya guba\n",
      "City not found.\n",
      "Processing record 190 of Set 0|burnie\n",
      "Processing record 191 of Set 0|galesong\n",
      "Processing record 192 of Set 0|belmonte\n",
      "Processing record 193 of Set 0|svetlaya\n",
      "Processing record 194 of Set 0|diamantino\n",
      "Processing record 195 of Set 0|chuy\n",
      "Processing record 196 of Set 0|cordoba\n",
      "Processing record 197 of Set 0|villa bruzual\n",
      "Processing record 198 of Set 0|kuju\n",
      "Processing record 199 of Set 0|saint-georges\n",
      "Processing record 200 of Set 0|aklavik\n",
      "Processing record 201 of Set 0|shirokiy\n",
      "Processing record 202 of Set 0|conde\n",
      "Processing record 203 of Set 0|bambous virieux\n",
      "Processing record 204 of Set 0|hami\n",
      "Processing record 205 of Set 0|coahuayana\n",
      "Processing record 206 of Set 0|porto novo\n",
      "Processing record 207 of Set 0|dingle\n",
      "Processing record 208 of Set 0|pemba\n",
      "Processing record 209 of Set 0|jucurutu\n",
      "Processing record 210 of Set 0|bathsheba\n",
      "Processing record 211 of Set 0|olafsvik\n",
      "Processing record 212 of Set 0|entebbe\n",
      "Processing record 213 of Set 0|fort morgan\n",
      "Processing record 214 of Set 0|stege\n",
      "Processing record 215 of Set 0|chokurdakh\n",
      "Processing record 216 of Set 0|rawson\n",
      "Processing record 217 of Set 0|tabulbah\n",
      "City not found.\n",
      "Processing record 218 of Set 0|waynesboro\n",
      "Processing record 219 of Set 0|pombia\n",
      "Processing record 220 of Set 0|san quintin\n",
      "Processing record 221 of Set 0|whitehorse\n",
      "Processing record 222 of Set 0|ancud\n",
      "Processing record 223 of Set 0|port lincoln\n",
      "Processing record 224 of Set 0|roald\n",
      "Processing record 225 of Set 0|novoagansk\n",
      "Processing record 226 of Set 0|nishihara\n",
      "Processing record 227 of Set 0|puerto leguizamo\n",
      "Processing record 228 of Set 0|thompson\n",
      "Processing record 229 of Set 0|wahran\n",
      "City not found.\n",
      "Processing record 230 of Set 0|sitka\n",
      "Processing record 231 of Set 0|mecca\n",
      "Processing record 232 of Set 0|topolovatu mare\n",
      "Processing record 233 of Set 0|hokitika\n",
      "Processing record 234 of Set 0|kaohsiung\n",
      "Processing record 235 of Set 0|ostrovnoy\n",
      "Processing record 236 of Set 0|westerly\n",
      "Processing record 237 of Set 0|ilulissat\n",
      "Processing record 238 of Set 0|tahoua\n",
      "Processing record 239 of Set 0|loa janan\n",
      "Processing record 240 of Set 0|kieta\n",
      "Processing record 241 of Set 0|lima\n",
      "Processing record 242 of Set 0|yerbogachen\n",
      "Processing record 243 of Set 0|samusu\n",
      "City not found.\n",
      "Processing record 244 of Set 0|dabakala\n",
      "Processing record 245 of Set 0|los llanos de aridane\n",
      "Processing record 246 of Set 0|cacoal\n",
      "Processing record 247 of Set 0|jabiru\n",
      "City not found.\n",
      "Processing record 248 of Set 0|zhanakorgan\n",
      "Processing record 249 of Set 0|rio grande\n",
      "Processing record 250 of Set 0|trincomalee\n",
      "Processing record 251 of Set 0|maragogi\n",
      "Processing record 252 of Set 0|marienburg\n",
      "Processing record 253 of Set 0|ribeira grande\n",
      "Processing record 254 of Set 0|mikun\n",
      "Processing record 255 of Set 0|japura\n",
      "Processing record 256 of Set 0|upata\n",
      "Processing record 257 of Set 0|nijar\n",
      "Processing record 258 of Set 0|mahebourg\n",
      "Processing record 259 of Set 0|si sa ket\n",
      "Processing record 260 of Set 0|hasaki\n",
      "Processing record 261 of Set 0|petropavlovsk-kamchatskiy\n",
      "Processing record 262 of Set 0|mar del plata\n",
      "Processing record 263 of Set 0|bandarbeyla\n",
      "Processing record 264 of Set 0|daru\n",
      "Processing record 265 of Set 0|tsihombe\n",
      "City not found.\n",
      "Processing record 266 of Set 0|puerto maldonado\n",
      "Processing record 267 of Set 0|pandan niog\n",
      "Processing record 268 of Set 0|san pedro\n",
      "Processing record 269 of Set 0|sorong\n",
      "Processing record 270 of Set 0|axim\n",
      "Processing record 271 of Set 0|mishan\n",
      "Processing record 272 of Set 0|marbella\n",
      "Processing record 273 of Set 0|constitucion\n",
      "Processing record 274 of Set 0|longyearbyen\n",
      "Processing record 275 of Set 0|gat\n",
      "Processing record 276 of Set 0|itoman\n",
      "Processing record 277 of Set 0|prabumulih\n",
      "Processing record 278 of Set 0|talnakh\n",
      "Processing record 279 of Set 0|arusha\n",
      "Processing record 280 of Set 0|florianopolis\n",
      "Processing record 281 of Set 0|mahibadhoo\n",
      "Processing record 282 of Set 0|cherskiy\n",
      "Processing record 283 of Set 0|consaca\n",
      "Processing record 284 of Set 0|estelle\n",
      "Processing record 285 of Set 0|waycross\n",
      "Processing record 286 of Set 0|saint andrews\n",
      "Processing record 287 of Set 0|kilindoni\n",
      "Processing record 288 of Set 0|kampene\n",
      "Processing record 289 of Set 0|hamilton\n",
      "Processing record 290 of Set 0|saldanha\n",
      "Processing record 291 of Set 0|meyungs\n",
      "City not found.\n",
      "Processing record 292 of Set 0|srivardhan\n",
      "Processing record 293 of Set 0|broome\n",
      "Processing record 294 of Set 0|takoradi\n",
      "Processing record 295 of Set 0|inirida\n",
      "Processing record 296 of Set 0|dunhua\n",
      "Processing record 297 of Set 0|okandja\n",
      "City not found.\n",
      "Processing record 298 of Set 0|lithakia\n",
      "Processing record 299 of Set 0|roma\n",
      "Processing record 300 of Set 0|abha\n",
      "Processing record 301 of Set 0|preobrazheniye\n",
      "Processing record 302 of Set 0|umzimvubu\n",
      "City not found.\n",
      "Processing record 303 of Set 0|college\n",
      "Processing record 304 of Set 0|bud\n",
      "Processing record 305 of Set 0|clinton\n",
      "Processing record 306 of Set 0|byron bay\n",
      "Processing record 307 of Set 0|attawapiskat\n",
      "City not found.\n",
      "Processing record 308 of Set 0|yatou\n",
      "Processing record 309 of Set 0|balabac\n",
      "Processing record 310 of Set 0|tuatapere\n",
      "Processing record 311 of Set 0|kahului\n",
      "Processing record 312 of Set 0|mahaicony\n",
      "City not found.\n",
      "Processing record 313 of Set 0|nurota\n",
      "Processing record 314 of Set 0|calama\n",
      "Processing record 315 of Set 0|kaya\n",
      "Processing record 316 of Set 0|louisbourg\n",
      "City not found.\n",
      "Processing record 317 of Set 0|yirol\n",
      "City not found.\n",
      "Processing record 318 of Set 0|nemuro\n",
      "Processing record 319 of Set 0|naze\n",
      "Processing record 320 of Set 0|pangnirtung\n",
      "Processing record 321 of Set 0|tarudant\n",
      "City not found.\n",
      "Processing record 322 of Set 0|tamandare\n",
      "Processing record 323 of Set 0|dien bien\n",
      "City not found.\n",
      "Processing record 324 of Set 0|taltal\n",
      "Processing record 325 of Set 0|namibe\n",
      "Processing record 326 of Set 0|bilibino\n",
      "Processing record 327 of Set 0|georgetown\n",
      "Processing record 328 of Set 0|eureka\n",
      "Processing record 329 of Set 0|port blair\n",
      "Processing record 330 of Set 0|cascais\n",
      "Processing record 331 of Set 0|ukiah\n",
      "Processing record 332 of Set 0|sao joao da barra\n",
      "Processing record 333 of Set 0|kirovsk\n",
      "Processing record 334 of Set 0|taoudenni\n",
      "Processing record 335 of Set 0|aberdeen\n",
      "Processing record 336 of Set 0|chicama\n",
      "Processing record 337 of Set 0|muroto\n",
      "Processing record 338 of Set 0|trairi\n",
      "Processing record 339 of Set 0|goderich\n",
      "Processing record 340 of Set 0|saint anthony\n",
      "Processing record 341 of Set 0|loandjili\n",
      "Processing record 342 of Set 0|saint-augustin\n",
      "Processing record 343 of Set 0|iracoubo\n",
      "Processing record 344 of Set 0|sarangani\n",
      "Processing record 345 of Set 0|vila franca do campo\n",
      "Processing record 346 of Set 0|lagoa\n",
      "Processing record 347 of Set 0|halalo\n",
      "City not found.\n",
      "Processing record 348 of Set 0|saint-pierre\n",
      "Processing record 349 of Set 0|kinshasa\n",
      "Processing record 350 of Set 0|verkhoyansk\n",
      "Processing record 351 of Set 0|imbituba\n",
      "Processing record 352 of Set 0|kegayli\n",
      "City not found.\n",
      "Processing record 353 of Set 0|gornyy\n",
      "Processing record 354 of Set 0|korla\n",
      "Processing record 355 of Set 0|ascension\n",
      "Processing record 356 of Set 0|maniitsoq\n",
      "Processing record 357 of Set 0|senno\n",
      "Processing record 358 of Set 0|bexhill\n",
      "Processing record 359 of Set 0|novo oriente\n",
      "Processing record 360 of Set 0|lorengau\n",
      "Processing record 361 of Set 0|bubaque\n",
      "Processing record 362 of Set 0|husavik\n",
      "Processing record 363 of Set 0|nyurba\n",
      "Processing record 364 of Set 0|victoria\n",
      "Processing record 365 of Set 0|booue\n",
      "Processing record 366 of Set 0|cidreira\n",
      "Processing record 367 of Set 0|nador\n",
      "Processing record 368 of Set 0|chernyshevskiy\n",
      "Processing record 369 of Set 0|coihaique\n",
      "Processing record 370 of Set 0|pudozh\n",
      "Processing record 371 of Set 0|kaoma\n",
      "Processing record 372 of Set 0|burica\n",
      "City not found.\n",
      "Processing record 373 of Set 0|vredendal\n",
      "Processing record 374 of Set 0|guthrie\n",
      "Processing record 375 of Set 0|mount pleasant\n",
      "Processing record 376 of Set 0|hofn\n",
      "Processing record 377 of Set 0|alice springs\n",
      "Processing record 378 of Set 0|cuamba\n",
      "Processing record 379 of Set 0|oranjemund\n",
      "Processing record 380 of Set 0|alofi\n",
      "Processing record 381 of Set 0|saint pete beach\n",
      "Processing record 382 of Set 0|platteville\n",
      "Processing record 383 of Set 0|george town\n",
      "Processing record 384 of Set 0|visby\n",
      "Processing record 385 of Set 0|flinders\n",
      "Processing record 386 of Set 0|araouane\n",
      "Processing record 387 of Set 0|jujuy\n",
      "City not found.\n",
      "Processing record 388 of Set 0|labutta\n",
      "City not found.\n",
      "Processing record 389 of Set 0|wanning\n",
      "Processing record 390 of Set 0|rafai\n",
      "Processing record 391 of Set 0|nouadhibou\n",
      "Processing record 392 of Set 0|ambulu\n",
      "Processing record 393 of Set 0|nizhneyansk\n",
      "City not found.\n",
      "Processing record 394 of Set 0|provideniya\n",
      "Processing record 395 of Set 0|ballybofey\n",
      "Processing record 396 of Set 0|sorland\n",
      "Processing record 397 of Set 0|brae\n",
      "Processing record 398 of Set 0|katsuura\n",
      "Processing record 399 of Set 0|margate\n",
      "Processing record 400 of Set 0|qaqortoq\n",
      "Processing record 401 of Set 0|road town\n",
      "Processing record 402 of Set 0|santa maria\n",
      "Processing record 403 of Set 0|puerto escondido\n",
      "Processing record 404 of Set 0|copiapo\n",
      "Processing record 405 of Set 0|shimoda\n",
      "Processing record 406 of Set 0|tiruvottiyur\n",
      "City not found.\n",
      "Processing record 407 of Set 0|pyay\n",
      "Processing record 408 of Set 0|strathmiglo\n",
      "Processing record 409 of Set 0|dungarpur\n",
      "Processing record 410 of Set 0|balykshi\n",
      "Processing record 411 of Set 0|witbank\n",
      "Processing record 412 of Set 0|price\n",
      "Processing record 413 of Set 0|vao\n",
      "Processing record 414 of Set 0|pamanukan\n",
      "Processing record 415 of Set 0|brasilia\n",
      "Processing record 416 of Set 0|port-gentil\n",
      "Processing record 417 of Set 0|antsohihy\n",
      "Processing record 418 of Set 0|eyl\n",
      "Processing record 419 of Set 0|tapaua\n",
      "City not found.\n",
      "Processing record 420 of Set 0|lolua\n",
      "City not found.\n",
      "Processing record 421 of Set 0|matay\n",
      "Processing record 422 of Set 0|wajima\n",
      "Processing record 423 of Set 0|praia da vitoria\n",
      "Processing record 424 of Set 0|keokuk\n",
      "Processing record 425 of Set 0|nortelandia\n",
      "Processing record 426 of Set 0|zhangye\n",
      "Processing record 427 of Set 0|koumac\n",
      "Processing record 428 of Set 0|touros\n",
      "Processing record 429 of Set 0|maralal\n",
      "Processing record 430 of Set 0|adrar\n",
      "Processing record 431 of Set 0|santa rosa\n",
      "Processing record 432 of Set 0|jardim\n",
      "Processing record 433 of Set 0|botwood\n",
      "Processing record 434 of Set 0|balsas\n",
      "Processing record 435 of Set 0|oktyabrskoye\n",
      "Processing record 436 of Set 0|benguela\n",
      "Processing record 437 of Set 0|harer\n",
      "Processing record 438 of Set 0|antofagasta\n",
      "Processing record 439 of Set 0|nandura\n",
      "Processing record 440 of Set 0|bedzin\n",
      "Processing record 441 of Set 0|agadez\n",
      "Processing record 442 of Set 0|egvekinot\n",
      "Processing record 443 of Set 0|bukama\n",
      "Processing record 444 of Set 0|isangel\n",
      "Processing record 445 of Set 0|magomeni\n",
      "Processing record 446 of Set 0|luanda\n",
      "Processing record 447 of Set 0|bida\n",
      "Processing record 448 of Set 0|khvoynaya\n",
      "Processing record 449 of Set 0|tvrdosin\n",
      "Processing record 450 of Set 0|pevek\n",
      "Processing record 451 of Set 0|marquette\n",
      "Processing record 452 of Set 0|khadyzhensk\n",
      "Processing record 453 of Set 0|grindavik\n",
      "Processing record 454 of Set 0|kongolo\n",
      "Processing record 455 of Set 0|qaanaaq\n",
      "Processing record 456 of Set 0|canon city\n",
      "Processing record 457 of Set 0|beidao\n",
      "Processing record 458 of Set 0|vila do maio\n",
      "Processing record 459 of Set 0|keetmanshoop\n",
      "Processing record 460 of Set 0|tacuarembo\n",
      "Processing record 461 of Set 0|kutum\n",
      "Processing record 462 of Set 0|faya\n",
      "Processing record 463 of Set 0|lompoc\n",
      "Processing record 464 of Set 0|clarksdale\n",
      "Processing record 465 of Set 0|wagar\n",
      "Processing record 466 of Set 0|kruisfontein\n",
      "Processing record 467 of Set 0|mizan teferi\n",
      "Processing record 468 of Set 0|lokosovo\n",
      "Processing record 469 of Set 0|kropotkin\n",
      "Processing record 470 of Set 0|yumen\n",
      "Processing record 471 of Set 0|amapa\n",
      "Processing record 472 of Set 0|tual\n",
      "Processing record 473 of Set 0|pushkinskiye gory\n",
      "Processing record 474 of Set 0|korop\n",
      "Processing record 475 of Set 0|tumannyy\n",
      "City not found.\n",
      "Processing record 476 of Set 0|kenai\n",
      "Processing record 477 of Set 0|altay\n",
      "Processing record 478 of Set 0|pirovskoye\n",
      "Processing record 479 of Set 0|paamiut\n",
      "Processing record 480 of Set 0|kalmunai\n",
      "Processing record 481 of Set 0|excelsior springs\n",
      "Processing record 482 of Set 0|el angel\n",
      "Processing record 483 of Set 0|kouango\n",
      "Processing record 484 of Set 0|jiuquan\n",
      "Processing record 485 of Set 0|iquique\n",
      "Processing record 486 of Set 0|severo-kurilsk\n",
      "Processing record 487 of Set 0|nizwa\n",
      "Processing record 488 of Set 0|dinsor\n",
      "City not found.\n",
      "Processing record 489 of Set 0|morant bay\n",
      "Processing record 490 of Set 0|maceio\n",
      "Processing record 491 of Set 0|solovetskiy\n",
      "City not found.\n",
      "Processing record 492 of Set 0|shemonaikha\n",
      "Processing record 493 of Set 0|baykit\n",
      "Processing record 494 of Set 0|mujiayingzi\n",
      "Processing record 495 of Set 0|yar-sale\n",
      "Processing record 496 of Set 0|nuuk\n",
      "Processing record 497 of Set 0|los algarrobos\n",
      "Processing record 498 of Set 0|villa alemana\n",
      "Processing record 499 of Set 0|casambalangan\n",
      "Processing record 500 of Set 0|haapiti\n",
      "Processing record 501 of Set 0|sistranda\n",
      "Processing record 502 of Set 0|skjervoy\n",
      "Processing record 503 of Set 0|xining\n",
      "Processing record 504 of Set 0|ambilobe\n",
      "Processing record 505 of Set 0|vanimo\n",
      "Processing record 506 of Set 0|walvis bay\n",
      "Processing record 507 of Set 0|senftenberg\n",
      "Processing record 508 of Set 0|gualeguay\n",
      "Processing record 509 of Set 0|san rafael\n",
      "Processing record 510 of Set 0|kiunga\n",
      "Processing record 511 of Set 0|quincy\n",
      "Processing record 512 of Set 0|teseney\n",
      "Processing record 513 of Set 0|ugoofaaru\n",
      "Processing record 514 of Set 0|teneguiban\n",
      "City not found.\n",
      "Processing record 515 of Set 0|seymchan\n",
      "Processing record 516 of Set 0|viedma\n",
      "Processing record 517 of Set 0|carutapera\n",
      "Processing record 518 of Set 0|gravdal\n",
      "Processing record 519 of Set 0|koslan\n",
      "Processing record 520 of Set 0|luganville\n",
      "Processing record 521 of Set 0|aksarayskiy\n",
      "Processing record 522 of Set 0|toora-khem\n",
      "Processing record 523 of Set 0|soe\n",
      "Processing record 524 of Set 0|ahipara\n",
      "Processing record 525 of Set 0|el dorado\n",
      "Processing record 526 of Set 0|lethem\n",
      "Processing record 527 of Set 0|tilichiki\n",
      "Processing record 528 of Set 0|marabba\n",
      "Processing record 529 of Set 0|shenjiamen\n",
      "Processing record 530 of Set 0|sabla\n",
      "Processing record 531 of Set 0|mandalgovi\n",
      "Processing record 532 of Set 0|clyde river\n",
      "Processing record 533 of Set 0|phan thiet\n",
      "Processing record 534 of Set 0|atchison\n",
      "Processing record 535 of Set 0|columbus\n",
      "Processing record 536 of Set 0|oistins\n",
      "Processing record 537 of Set 0|cortez\n",
      "Processing record 538 of Set 0|snasa\n",
      "Processing record 539 of Set 0|tessalit\n",
      "Processing record 540 of Set 0|vila velha\n",
      "Processing record 541 of Set 0|samarai\n",
      "Processing record 542 of Set 0|ayacucho\n",
      "Processing record 543 of Set 0|fort nelson\n",
      "Processing record 544 of Set 0|sohag\n",
      "Processing record 545 of Set 0|kontagora\n",
      "Processing record 546 of Set 0|asau\n",
      "Processing record 547 of Set 0|port hedland\n",
      "Processing record 548 of Set 0|chalon-sur-saone\n",
      "Processing record 549 of Set 0|lalomanu\n",
      "City not found.\n",
      "Processing record 550 of Set 0|pavlivka\n",
      "Processing record 551 of Set 0|souillac\n",
      "Processing record 552 of Set 0|luwuk\n",
      "Processing record 553 of Set 0|sakhon nakhon\n",
      "Processing record 554 of Set 0|bibiani\n",
      "Processing record 555 of Set 0|san patricio\n",
      "Processing record 556 of Set 0|blackwater\n",
      "Processing record 557 of Set 0|tambacounda\n",
      "Processing record 558 of Set 0|cam pha\n",
      "City not found.\n",
      "Processing record 559 of Set 0|pitimbu\n",
      "Processing record 560 of Set 0|karamea\n",
      "City not found.\n",
      "Processing record 561 of Set 0|camana\n",
      "Processing record 562 of Set 0|xixiang\n",
      "Processing record 563 of Set 0|wewak\n",
      "Processing record 564 of Set 0|havelock\n",
      "Processing record 565 of Set 0|hualmay\n",
      "Processing record 566 of Set 0|kurayoshi\n",
      "Processing record 567 of Set 0|ust-nera\n",
      "Processing record 568 of Set 0|ulaangom\n",
      "Processing record 569 of Set 0|vallenar\n",
      "Processing record 570 of Set 0|torres\n",
      "Processing record 571 of Set 0|haysville\n",
      "Processing record 572 of Set 0|santa isabel\n",
      "Processing record 573 of Set 0|kandi\n",
      "Processing record 574 of Set 0|ipixuna\n",
      "Processing record 575 of Set 0|mrirt\n",
      "City not found.\n",
      "Processing record 576 of Set 0|marzuq\n",
      "Processing record 577 of Set 0|taybad\n",
      "Processing record 578 of Set 0|acapulco\n",
      "Processing record 579 of Set 0|thinadhoo\n",
      "Processing record 580 of Set 0|cubara\n",
      "Processing record 581 of Set 0|kargil\n",
      "Processing record 582 of Set 0|camacupa\n",
      "Processing record 583 of Set 0|sao miguel do araguaia\n",
      "Processing record 584 of Set 0|biak\n",
      "Processing record 585 of Set 0|naugachhia\n",
      "Processing record 586 of Set 0|sabha\n",
      "Processing record 587 of Set 0|sancti spiritus\n",
      "Processing record 588 of Set 0|shahrud\n",
      "Processing record 589 of Set 0|shreveport\n",
      "Processing record 590 of Set 0|hovorany\n",
      "Processing record 591 of Set 0|idappadi\n",
      "Processing record 592 of Set 0|talacogon\n",
      "Processing record 593 of Set 0|chiali\n",
      "City not found.\n",
      "Processing record 594 of Set 0|tagusao\n",
      "Processing record 595 of Set 0|sao felix do xingu\n",
      "Processing record 596 of Set 0|gloversville\n",
      "Processing record 597 of Set 0|kalmar\n",
      "Processing record 598 of Set 0|biltine\n",
      "Processing record 599 of Set 0|simiti\n",
      "Processing record 600 of Set 0|belyy yar\n",
      "Processing record 601 of Set 0|najran\n",
      "Processing record 602 of Set 0|mackay\n",
      "Processing record 603 of Set 0|neiafu\n",
      "Processing record 604 of Set 0|sinnamary\n",
      "Processing record 605 of Set 0|prado\n",
      "Processing record 606 of Set 0|aksu\n",
      "Processing record 607 of Set 0|crateus\n",
      "Processing record 608 of Set 0|betanzos\n",
      "Processing record 609 of Set 0|huangchuan\n",
      "Processing record 610 of Set 0|cairns\n",
      "------------------------\n",
      "End Data Retrieval\n",
      "------------------------\n"
     ]
    }
   ],
   "source": [
    "City_New = []\n",
    "Lat = []\n",
    "Lng = []\n",
    "Temp = []\n",
    "Humidity = []\n",
    "Cloudiness = []\n",
    "Wind = []\n",
    "Country = []\n",
    "Date = []\n",
    "\n",
    "records = 0\n",
    "sets = 0\n",
    "import sys\n",
    "print('------------------------')\n",
    "print('Beginning Data Retrieval')\n",
    "print('------------------------')\n",
    "# Loop through the list of cities and perform a request for data on each\n",
    "for city in cities:\n",
    "    # Build partial query URL\n",
    "    query_url = f\"{url}appid={weather_api_key}&units={units}&q={city}\"\n",
    "    response = requests.get(query_url).json()\n",
    "    records += 1\n",
    " \n",
    "    print(f\"Processing record {records} of Set {sets}|{city}\")\n",
    "    try:         \n",
    "        #print(f\"Processing record {records} of Set {sets}|{city}\")\n",
    "        Lat.append(response[\"coord\"]['lat'])\n",
    "        Lng.append(response[\"coord\"][\"lon\"])\n",
    "        Temp.append(response['main']['temp_max'])\n",
    "        Humidity.append(response['main']['humidity'])\n",
    "        Cloudiness.append(response['clouds']['all'])\n",
    "        Wind.append(response['wind']['speed'])\n",
    "        Country.append(response['sys']['country'])\n",
    "        Date.append(response['dt'])\n",
    "        City_New.append(response[\"name\"])\n",
    "        time.sleep(1.5)\n",
    "    except:\n",
    "        print(f\"City not found.\")\n",
    "        time.sleep(1.5)\n",
    "print('------------------------')\n",
    "print('End Data Retrieval')\n",
    "print('------------------------')\n"
   ]
  },
  {
   "cell_type": "markdown",
   "metadata": {},
   "source": [
    "### Convert Raw Data to DataFrame\n",
    "* Export the city data into a .csv.\n",
    "* Display the DataFrame"
   ]
  },
  {
   "cell_type": "code",
   "execution_count": 5,
   "metadata": {},
   "outputs": [],
   "source": [
    "weather_dict = {\n",
    "    \"City\": City_New,\n",
    "    \"Lat\": Lat,\n",
    "    \"Lng\": Lng,\n",
    "    \"Max Temp\": Temp,\n",
    "    \"Humidity\": Humidity,\n",
    "    \"Cloudiness\": Cloudiness,\n",
    "    \"Wind Speed\": Wind,\n",
    "    \"Country\": Country,\n",
    "    \"Date\": Date\n",
    "}\n",
    "weather_data = pd.DataFrame(weather_dict)\n",
    "weather_data.to_csv(r\"Output/fileOne.csv\", index=False, header=True)"
   ]
  },
  {
   "cell_type": "code",
   "execution_count": 6,
   "metadata": {},
   "outputs": [
    {
     "data": {
      "text/html": [
       "<div>\n",
       "<style scoped>\n",
       "    .dataframe tbody tr th:only-of-type {\n",
       "        vertical-align: middle;\n",
       "    }\n",
       "\n",
       "    .dataframe tbody tr th {\n",
       "        vertical-align: top;\n",
       "    }\n",
       "\n",
       "    .dataframe thead th {\n",
       "        text-align: right;\n",
       "    }\n",
       "</style>\n",
       "<table border=\"1\" class=\"dataframe\">\n",
       "  <thead>\n",
       "    <tr style=\"text-align: right;\">\n",
       "      <th></th>\n",
       "      <th>City</th>\n",
       "      <th>Lat</th>\n",
       "      <th>Lng</th>\n",
       "      <th>Max Temp</th>\n",
       "      <th>Humidity</th>\n",
       "      <th>Cloudiness</th>\n",
       "      <th>Wind Speed</th>\n",
       "      <th>Country</th>\n",
       "      <th>Date</th>\n",
       "    </tr>\n",
       "  </thead>\n",
       "  <tbody>\n",
       "    <tr>\n",
       "      <th>0</th>\n",
       "      <td>Arraial do Cabo</td>\n",
       "      <td>-22.9661</td>\n",
       "      <td>-42.0278</td>\n",
       "      <td>89.60</td>\n",
       "      <td>74</td>\n",
       "      <td>20</td>\n",
       "      <td>9.22</td>\n",
       "      <td>BR</td>\n",
       "      <td>1616946456</td>\n",
       "    </tr>\n",
       "    <tr>\n",
       "      <th>1</th>\n",
       "      <td>Vestmannaeyjar</td>\n",
       "      <td>63.4427</td>\n",
       "      <td>-20.2734</td>\n",
       "      <td>35.60</td>\n",
       "      <td>64</td>\n",
       "      <td>20</td>\n",
       "      <td>11.50</td>\n",
       "      <td>IS</td>\n",
       "      <td>1616946735</td>\n",
       "    </tr>\n",
       "    <tr>\n",
       "      <th>2</th>\n",
       "      <td>Natal</td>\n",
       "      <td>-5.7950</td>\n",
       "      <td>-35.2094</td>\n",
       "      <td>87.80</td>\n",
       "      <td>66</td>\n",
       "      <td>40</td>\n",
       "      <td>5.75</td>\n",
       "      <td>BR</td>\n",
       "      <td>1616946737</td>\n",
       "    </tr>\n",
       "    <tr>\n",
       "      <th>3</th>\n",
       "      <td>Namatanai</td>\n",
       "      <td>-3.6667</td>\n",
       "      <td>152.4333</td>\n",
       "      <td>79.03</td>\n",
       "      <td>79</td>\n",
       "      <td>100</td>\n",
       "      <td>8.16</td>\n",
       "      <td>PG</td>\n",
       "      <td>1616946739</td>\n",
       "    </tr>\n",
       "    <tr>\n",
       "      <th>4</th>\n",
       "      <td>Kavaratti</td>\n",
       "      <td>10.5669</td>\n",
       "      <td>72.6420</td>\n",
       "      <td>84.20</td>\n",
       "      <td>73</td>\n",
       "      <td>100</td>\n",
       "      <td>7.96</td>\n",
       "      <td>IN</td>\n",
       "      <td>1616946740</td>\n",
       "    </tr>\n",
       "  </tbody>\n",
       "</table>\n",
       "</div>"
      ],
      "text/plain": [
       "              City      Lat       Lng  Max Temp  Humidity  Cloudiness  \\\n",
       "0  Arraial do Cabo -22.9661  -42.0278     89.60        74          20   \n",
       "1   Vestmannaeyjar  63.4427  -20.2734     35.60        64          20   \n",
       "2            Natal  -5.7950  -35.2094     87.80        66          40   \n",
       "3        Namatanai  -3.6667  152.4333     79.03        79         100   \n",
       "4        Kavaratti  10.5669   72.6420     84.20        73         100   \n",
       "\n",
       "   Wind Speed Country        Date  \n",
       "0        9.22      BR  1616946456  \n",
       "1       11.50      IS  1616946735  \n",
       "2        5.75      BR  1616946737  \n",
       "3        8.16      PG  1616946739  \n",
       "4        7.96      IN  1616946740  "
      ]
     },
     "execution_count": 6,
     "metadata": {},
     "output_type": "execute_result"
    }
   ],
   "source": [
    "weather_data.head()"
   ]
  },
  {
   "cell_type": "code",
   "execution_count": 7,
   "metadata": {},
   "outputs": [
    {
     "data": {
      "text/html": [
       "<div>\n",
       "<style scoped>\n",
       "    .dataframe tbody tr th:only-of-type {\n",
       "        vertical-align: middle;\n",
       "    }\n",
       "\n",
       "    .dataframe tbody tr th {\n",
       "        vertical-align: top;\n",
       "    }\n",
       "\n",
       "    .dataframe thead th {\n",
       "        text-align: right;\n",
       "    }\n",
       "</style>\n",
       "<table border=\"1\" class=\"dataframe\">\n",
       "  <thead>\n",
       "    <tr style=\"text-align: right;\">\n",
       "      <th></th>\n",
       "      <th>Lat</th>\n",
       "      <th>Lng</th>\n",
       "      <th>Max Temp</th>\n",
       "      <th>Humidity</th>\n",
       "      <th>Cloudiness</th>\n",
       "      <th>Wind Speed</th>\n",
       "      <th>Date</th>\n",
       "    </tr>\n",
       "  </thead>\n",
       "  <tbody>\n",
       "    <tr>\n",
       "      <th>count</th>\n",
       "      <td>564.000000</td>\n",
       "      <td>564.000000</td>\n",
       "      <td>564.000000</td>\n",
       "      <td>564.000000</td>\n",
       "      <td>564.000000</td>\n",
       "      <td>564.000000</td>\n",
       "      <td>5.640000e+02</td>\n",
       "    </tr>\n",
       "    <tr>\n",
       "      <th>mean</th>\n",
       "      <td>17.428587</td>\n",
       "      <td>13.972767</td>\n",
       "      <td>60.709894</td>\n",
       "      <td>68.670213</td>\n",
       "      <td>54.101064</td>\n",
       "      <td>8.801152</td>\n",
       "      <td>1.616947e+09</td>\n",
       "    </tr>\n",
       "    <tr>\n",
       "      <th>std</th>\n",
       "      <td>32.851797</td>\n",
       "      <td>89.331205</td>\n",
       "      <td>26.073748</td>\n",
       "      <td>23.277256</td>\n",
       "      <td>38.241804</td>\n",
       "      <td>6.012583</td>\n",
       "      <td>3.283872e+02</td>\n",
       "    </tr>\n",
       "    <tr>\n",
       "      <th>min</th>\n",
       "      <td>-54.800000</td>\n",
       "      <td>-179.166700</td>\n",
       "      <td>-29.200000</td>\n",
       "      <td>3.000000</td>\n",
       "      <td>0.000000</td>\n",
       "      <td>0.290000</td>\n",
       "      <td>1.616946e+09</td>\n",
       "    </tr>\n",
       "    <tr>\n",
       "      <th>25%</th>\n",
       "      <td>-9.699350</td>\n",
       "      <td>-61.522525</td>\n",
       "      <td>46.400000</td>\n",
       "      <td>55.000000</td>\n",
       "      <td>20.000000</td>\n",
       "      <td>4.000000</td>\n",
       "      <td>1.616947e+09</td>\n",
       "    </tr>\n",
       "    <tr>\n",
       "      <th>50%</th>\n",
       "      <td>18.296450</td>\n",
       "      <td>16.713400</td>\n",
       "      <td>68.790000</td>\n",
       "      <td>73.000000</td>\n",
       "      <td>61.500000</td>\n",
       "      <td>7.450000</td>\n",
       "      <td>1.616947e+09</td>\n",
       "    </tr>\n",
       "    <tr>\n",
       "      <th>75%</th>\n",
       "      <td>43.973050</td>\n",
       "      <td>92.116475</td>\n",
       "      <td>79.997500</td>\n",
       "      <td>87.000000</td>\n",
       "      <td>92.000000</td>\n",
       "      <td>11.927500</td>\n",
       "      <td>1.616948e+09</td>\n",
       "    </tr>\n",
       "    <tr>\n",
       "      <th>max</th>\n",
       "      <td>78.218600</td>\n",
       "      <td>179.316700</td>\n",
       "      <td>107.600000</td>\n",
       "      <td>100.000000</td>\n",
       "      <td>100.000000</td>\n",
       "      <td>33.380000</td>\n",
       "      <td>1.616948e+09</td>\n",
       "    </tr>\n",
       "  </tbody>\n",
       "</table>\n",
       "</div>"
      ],
      "text/plain": [
       "              Lat         Lng    Max Temp    Humidity  Cloudiness  Wind Speed  \\\n",
       "count  564.000000  564.000000  564.000000  564.000000  564.000000  564.000000   \n",
       "mean    17.428587   13.972767   60.709894   68.670213   54.101064    8.801152   \n",
       "std     32.851797   89.331205   26.073748   23.277256   38.241804    6.012583   \n",
       "min    -54.800000 -179.166700  -29.200000    3.000000    0.000000    0.290000   \n",
       "25%     -9.699350  -61.522525   46.400000   55.000000   20.000000    4.000000   \n",
       "50%     18.296450   16.713400   68.790000   73.000000   61.500000    7.450000   \n",
       "75%     43.973050   92.116475   79.997500   87.000000   92.000000   11.927500   \n",
       "max     78.218600  179.316700  107.600000  100.000000  100.000000   33.380000   \n",
       "\n",
       "               Date  \n",
       "count  5.640000e+02  \n",
       "mean   1.616947e+09  \n",
       "std    3.283872e+02  \n",
       "min    1.616946e+09  \n",
       "25%    1.616947e+09  \n",
       "50%    1.616947e+09  \n",
       "75%    1.616948e+09  \n",
       "max    1.616948e+09  "
      ]
     },
     "execution_count": 7,
     "metadata": {},
     "output_type": "execute_result"
    }
   ],
   "source": [
    "weather_data.describe()"
   ]
  },
  {
   "cell_type": "markdown",
   "metadata": {},
   "source": [
    "## Inspect the data and remove the cities where the humidity > 100%.\n",
    "----\n",
    "Skip this step if there are no cities that have humidity > 100%. "
   ]
  },
  {
   "cell_type": "code",
   "execution_count": 6,
   "metadata": {},
   "outputs": [
    {
     "data": {
      "text/html": [
       "<div>\n",
       "<style scoped>\n",
       "    .dataframe tbody tr th:only-of-type {\n",
       "        vertical-align: middle;\n",
       "    }\n",
       "\n",
       "    .dataframe tbody tr th {\n",
       "        vertical-align: top;\n",
       "    }\n",
       "\n",
       "    .dataframe thead th {\n",
       "        text-align: right;\n",
       "    }\n",
       "</style>\n",
       "<table border=\"1\" class=\"dataframe\">\n",
       "  <thead>\n",
       "    <tr style=\"text-align: right;\">\n",
       "      <th></th>\n",
       "      <th>Lat</th>\n",
       "      <th>Lng</th>\n",
       "      <th>Max Temp</th>\n",
       "      <th>Humidity</th>\n",
       "      <th>Cloudiness</th>\n",
       "      <th>Wind Speed</th>\n",
       "      <th>Date</th>\n",
       "    </tr>\n",
       "  </thead>\n",
       "  <tbody>\n",
       "    <tr>\n",
       "      <th>count</th>\n",
       "      <td>550.000000</td>\n",
       "      <td>550.000000</td>\n",
       "      <td>550.000000</td>\n",
       "      <td>550.000000</td>\n",
       "      <td>550.000000</td>\n",
       "      <td>550.000000</td>\n",
       "      <td>5.500000e+02</td>\n",
       "    </tr>\n",
       "    <tr>\n",
       "      <th>mean</th>\n",
       "      <td>19.973545</td>\n",
       "      <td>17.124400</td>\n",
       "      <td>58.331400</td>\n",
       "      <td>67.890909</td>\n",
       "      <td>52.141818</td>\n",
       "      <td>8.544800</td>\n",
       "      <td>1.585764e+09</td>\n",
       "    </tr>\n",
       "    <tr>\n",
       "      <th>std</th>\n",
       "      <td>33.284840</td>\n",
       "      <td>91.595451</td>\n",
       "      <td>25.795297</td>\n",
       "      <td>20.864881</td>\n",
       "      <td>35.766469</td>\n",
       "      <td>6.078869</td>\n",
       "      <td>5.539674e+01</td>\n",
       "    </tr>\n",
       "    <tr>\n",
       "      <th>min</th>\n",
       "      <td>-54.800000</td>\n",
       "      <td>-179.170000</td>\n",
       "      <td>-11.340000</td>\n",
       "      <td>9.000000</td>\n",
       "      <td>0.000000</td>\n",
       "      <td>0.160000</td>\n",
       "      <td>1.585764e+09</td>\n",
       "    </tr>\n",
       "    <tr>\n",
       "      <th>25%</th>\n",
       "      <td>-8.077500</td>\n",
       "      <td>-64.627500</td>\n",
       "      <td>42.800000</td>\n",
       "      <td>55.000000</td>\n",
       "      <td>20.000000</td>\n",
       "      <td>4.525000</td>\n",
       "      <td>1.585764e+09</td>\n",
       "    </tr>\n",
       "    <tr>\n",
       "      <th>50%</th>\n",
       "      <td>23.630000</td>\n",
       "      <td>19.635000</td>\n",
       "      <td>64.940000</td>\n",
       "      <td>72.000000</td>\n",
       "      <td>57.000000</td>\n",
       "      <td>7.325000</td>\n",
       "      <td>1.585764e+09</td>\n",
       "    </tr>\n",
       "    <tr>\n",
       "      <th>75%</th>\n",
       "      <td>48.672500</td>\n",
       "      <td>97.350000</td>\n",
       "      <td>78.800000</td>\n",
       "      <td>83.000000</td>\n",
       "      <td>86.750000</td>\n",
       "      <td>11.410000</td>\n",
       "      <td>1.585764e+09</td>\n",
       "    </tr>\n",
       "    <tr>\n",
       "      <th>max</th>\n",
       "      <td>78.220000</td>\n",
       "      <td>179.320000</td>\n",
       "      <td>102.200000</td>\n",
       "      <td>100.000000</td>\n",
       "      <td>100.000000</td>\n",
       "      <td>46.080000</td>\n",
       "      <td>1.585764e+09</td>\n",
       "    </tr>\n",
       "  </tbody>\n",
       "</table>\n",
       "</div>"
      ],
      "text/plain": [
       "              Lat         Lng    Max Temp    Humidity  Cloudiness  Wind Speed  \\\n",
       "count  550.000000  550.000000  550.000000  550.000000  550.000000  550.000000   \n",
       "mean    19.973545   17.124400   58.331400   67.890909   52.141818    8.544800   \n",
       "std     33.284840   91.595451   25.795297   20.864881   35.766469    6.078869   \n",
       "min    -54.800000 -179.170000  -11.340000    9.000000    0.000000    0.160000   \n",
       "25%     -8.077500  -64.627500   42.800000   55.000000   20.000000    4.525000   \n",
       "50%     23.630000   19.635000   64.940000   72.000000   57.000000    7.325000   \n",
       "75%     48.672500   97.350000   78.800000   83.000000   86.750000   11.410000   \n",
       "max     78.220000  179.320000  102.200000  100.000000  100.000000   46.080000   \n",
       "\n",
       "               Date  \n",
       "count  5.500000e+02  \n",
       "mean   1.585764e+09  \n",
       "std    5.539674e+01  \n",
       "min    1.585764e+09  \n",
       "25%    1.585764e+09  \n",
       "50%    1.585764e+09  \n",
       "75%    1.585764e+09  \n",
       "max    1.585764e+09  "
      ]
     },
     "execution_count": 6,
     "metadata": {},
     "output_type": "execute_result"
    }
   ],
   "source": []
  },
  {
   "cell_type": "code",
   "execution_count": 17,
   "metadata": {},
   "outputs": [
    {
     "data": {
      "text/plain": [
       "Int64Index([], dtype='int64')"
      ]
     },
     "execution_count": 17,
     "metadata": {},
     "output_type": "execute_result"
    }
   ],
   "source": [
    "#  Get the indices of cities that have humidity over 100%.\n"
   ]
  },
  {
   "cell_type": "code",
   "execution_count": 19,
   "metadata": {},
   "outputs": [
    {
     "data": {
      "text/html": [
       "<div>\n",
       "<style scoped>\n",
       "    .dataframe tbody tr th:only-of-type {\n",
       "        vertical-align: middle;\n",
       "    }\n",
       "\n",
       "    .dataframe tbody tr th {\n",
       "        vertical-align: top;\n",
       "    }\n",
       "\n",
       "    .dataframe thead th {\n",
       "        text-align: right;\n",
       "    }\n",
       "</style>\n",
       "<table border=\"1\" class=\"dataframe\">\n",
       "  <thead>\n",
       "    <tr style=\"text-align: right;\">\n",
       "      <th></th>\n",
       "      <th>City</th>\n",
       "      <th>Lat</th>\n",
       "      <th>Lng</th>\n",
       "      <th>Max Temp</th>\n",
       "      <th>Humidity</th>\n",
       "      <th>Cloudiness</th>\n",
       "      <th>Wind Speed</th>\n",
       "      <th>Country</th>\n",
       "      <th>Date</th>\n",
       "    </tr>\n",
       "  </thead>\n",
       "  <tbody>\n",
       "    <tr>\n",
       "      <td>0</td>\n",
       "      <td>butaritari</td>\n",
       "      <td>3.07</td>\n",
       "      <td>172.79</td>\n",
       "      <td>83.32</td>\n",
       "      <td>74</td>\n",
       "      <td>84</td>\n",
       "      <td>10.42</td>\n",
       "      <td>KI</td>\n",
       "      <td>1593605283</td>\n",
       "    </tr>\n",
       "    <tr>\n",
       "      <td>1</td>\n",
       "      <td>yerbogachen</td>\n",
       "      <td>61.28</td>\n",
       "      <td>108.01</td>\n",
       "      <td>79.52</td>\n",
       "      <td>58</td>\n",
       "      <td>20</td>\n",
       "      <td>7.70</td>\n",
       "      <td>RU</td>\n",
       "      <td>1593605121</td>\n",
       "    </tr>\n",
       "    <tr>\n",
       "      <td>2</td>\n",
       "      <td>cape town</td>\n",
       "      <td>-33.93</td>\n",
       "      <td>18.42</td>\n",
       "      <td>73.00</td>\n",
       "      <td>77</td>\n",
       "      <td>27</td>\n",
       "      <td>4.70</td>\n",
       "      <td>ZA</td>\n",
       "      <td>1593605039</td>\n",
       "    </tr>\n",
       "    <tr>\n",
       "      <td>3</td>\n",
       "      <td>touba</td>\n",
       "      <td>8.28</td>\n",
       "      <td>-7.68</td>\n",
       "      <td>79.97</td>\n",
       "      <td>75</td>\n",
       "      <td>82</td>\n",
       "      <td>3.58</td>\n",
       "      <td>CI</td>\n",
       "      <td>1593605284</td>\n",
       "    </tr>\n",
       "    <tr>\n",
       "      <td>4</td>\n",
       "      <td>jamestown</td>\n",
       "      <td>42.10</td>\n",
       "      <td>-79.24</td>\n",
       "      <td>64.00</td>\n",
       "      <td>88</td>\n",
       "      <td>1</td>\n",
       "      <td>6.93</td>\n",
       "      <td>US</td>\n",
       "      <td>1593605284</td>\n",
       "    </tr>\n",
       "  </tbody>\n",
       "</table>\n",
       "</div>"
      ],
      "text/plain": [
       "          City    Lat     Lng  Max Temp  Humidity  Cloudiness  Wind Speed  \\\n",
       "0   butaritari   3.07  172.79     83.32        74          84       10.42   \n",
       "1  yerbogachen  61.28  108.01     79.52        58          20        7.70   \n",
       "2    cape town -33.93   18.42     73.00        77          27        4.70   \n",
       "3        touba   8.28   -7.68     79.97        75          82        3.58   \n",
       "4    jamestown  42.10  -79.24     64.00        88           1        6.93   \n",
       "\n",
       "  Country        Date  \n",
       "0      KI  1593605283  \n",
       "1      RU  1593605121  \n",
       "2      ZA  1593605039  \n",
       "3      CI  1593605284  \n",
       "4      US  1593605284  "
      ]
     },
     "execution_count": 19,
     "metadata": {},
     "output_type": "execute_result"
    }
   ],
   "source": [
    "# Make a new DataFrame equal to the city data to drop all humidity outliers by index.\n",
    "# Passing \"inplace=False\" will make a copy of the city_data DataFrame, which we call \"clean_city_data\".\n"
   ]
  },
  {
   "cell_type": "code",
   "execution_count": null,
   "metadata": {},
   "outputs": [],
   "source": [
    "\n"
   ]
  },
  {
   "cell_type": "markdown",
   "metadata": {},
   "source": [
    "## Plotting the Data\n",
    "* Use proper labeling of the plots using plot titles (including date of analysis) and axes labels.\n",
    "* Save the plotted figures as .pngs."
   ]
  },
  {
   "cell_type": "markdown",
   "metadata": {},
   "source": [
    "## Latitude vs. Temperature Plot"
   ]
  },
  {
   "cell_type": "code",
   "execution_count": 8,
   "metadata": {},
   "outputs": [],
   "source": [
    "date =datetime.datetime.fromtimestamp(\n",
    "        int(weather_data['Date'][0])\n",
    "    ).strftime('%m/%d/%Y')"
   ]
  },
  {
   "cell_type": "code",
   "execution_count": 9,
   "metadata": {},
   "outputs": [
    {
     "data": {
      "image/png": "[encoded data removed]",
      "text/plain": [
       "<Figure size 432x288 with 1 Axes>"
      ]
     },
     "metadata": {
      "needs_background": "light"
     },
     "output_type": "display_data"
    }
   ],
   "source": [
    "weather_data.plot(kind='scatter',x='Lat',y='Max Temp', c='b')\n",
    "plt.title('City Latitude Vs Temperature ({})'.format(date) )\n",
    "plt.xlabel('Latitude')\n",
    "plt.ylabel('Temperature (F)')\n",
    "plt.savefig(\"Figures/latVstmp.png\")\n",
    "plt.grid();"
   ]
  },
  {
   "cell_type": "markdown",
   "metadata": {},
   "source": [
    "* There seems to be a correlation between latitude of the city and the temperature, so the cities in the southern hemisphere have warmer temperatures, especially those closest to the equator "
   ]
  },
  {
   "cell_type": "markdown",
   "metadata": {},
   "source": [
    "## Latitude vs. Humidity Plot"
   ]
  },
  {
   "cell_type": "code",
   "execution_count": 10,
   "metadata": {},
   "outputs": [
    {
     "data": {
      "image/png": "[encoded data removed]",
      "text/plain": [
       "<Figure size 432x288 with 1 Axes>"
      ]
     },
     "metadata": {
      "needs_background": "light"
     },
     "output_type": "display_data"
    }
   ],
   "source": [
    "weather_data.plot(kind='scatter',x='Lat',y='Humidity', c='b')\n",
    "plt.title('City Latitude Vs Max Humidity ({})'.format(date) )\n",
    "plt.xlabel('Latitude')\n",
    "plt.ylabel('Humidity (%)')\n",
    "plt.savefig(\"Figures/latVsHumidity.png\")\n",
    "plt.grid();"
   ]
  },
  {
   "cell_type": "markdown",
   "metadata": {},
   "source": [
    "* humidity seems to vary no matter where the city is located"
   ]
  },
  {
   "cell_type": "markdown",
   "metadata": {},
   "source": [
    "## Latitude vs. Cloudiness Plot"
   ]
  },
  {
   "cell_type": "code",
   "execution_count": 11,
   "metadata": {},
   "outputs": [
    {
     "data": {
      "image/png": "[encoded data removed]",
      "text/plain": [
       "<Figure size 432x288 with 1 Axes>"
      ]
     },
     "metadata": {
      "needs_background": "light"
     },
     "output_type": "display_data"
    }
   ],
   "source": [
    "weather_data.plot(kind='scatter',x='Lat',y='Cloudiness', c='b')\n",
    "plt.title('City Latitude Vs Cloudiness ({})'.format(date) )\n",
    "plt.xlabel('Latitude')\n",
    "plt.ylabel('Cloudiness (%)')\n",
    "plt.savefig(\"Figures/latVsCloudiness.png\")\n",
    "plt.grid();"
   ]
  },
  {
   "cell_type": "markdown",
   "metadata": {},
   "source": [
    "* I see no correlation between latitude and cloudiness either.  See same points in latitude and cloudiness varies from none to a lot. "
   ]
  },
  {
   "cell_type": "markdown",
   "metadata": {},
   "source": [
    "## Latitude vs. Wind Speed Plot"
   ]
  },
  {
   "cell_type": "code",
   "execution_count": 12,
   "metadata": {},
   "outputs": [
    {
     "data": {
      "image/png": "[encoded data removed]",
      "text/plain": [
       "<Figure size 432x288 with 1 Axes>"
      ]
     },
     "metadata": {
      "needs_background": "light"
     },
     "output_type": "display_data"
    }
   ],
   "source": [
    "weather_data.plot(kind='scatter',x='Lat',y='Wind Speed', c='b')\n",
    "plt.title('City Latitude Vs Wind Speed ({})'.format(date) )\n",
    "plt.xlabel('Latitude')\n",
    "plt.ylabel('Wind Speed (mph)')\n",
    "plt.savefig(\"Figures/latVsWind.png\")\n",
    "plt.grid();"
   ]
  },
  {
   "cell_type": "markdown",
   "metadata": {},
   "source": [
    "* as with the previous three plots I don't see any distinct correlation between latitude and wind speed.  "
   ]
  },
  {
   "cell_type": "markdown",
   "metadata": {},
   "source": [
    "## Linear Regression"
   ]
  },
  {
   "cell_type": "code",
   "execution_count": 13,
   "metadata": {},
   "outputs": [],
   "source": [
    "northern_df = weather_data.loc[weather_data[\"Lat\"] >= 0,:]\n",
    "southern_df = weather_data.loc[weather_data[\"Lat\"] < 0,:]"
   ]
  },
  {
   "cell_type": "markdown",
   "metadata": {},
   "source": [
    "####  Northern Hemisphere - Max Temp vs. Latitude Linear Regression"
   ]
  },
  {
   "cell_type": "code",
   "execution_count": 14,
   "metadata": {},
   "outputs": [
    {
     "data": {
      "image/png": "[encoded data removed]",
      "text/plain": [
       "<Figure size 432x288 with 1 Axes>"
      ]
     },
     "metadata": {
      "needs_background": "light"
     },
     "output_type": "display_data"
    },
    {
     "name": "stdout",
     "output_type": "stream",
     "text": [
      "The r-value is: -0.8815438591241244\n"
     ]
    }
   ],
   "source": [
    "x_values = northern_df[\"Lat\"]\n",
    "y_values = northern_df[\"Max Temp\"]\n",
    "(slope, intercept, rvalue, pvalue, stderr) = linregress(x_values, y_values)\n",
    "regress_values = x_values * slope + intercept\n",
    "line_eq = \"y = \" + str(round(slope,2)) + \"x + \" + str(round(intercept,2))\n",
    "plt.scatter(x_values,y_values)\n",
    "plt.plot(x_values,regress_values,\"r-\")\n",
    "plt.xlabel('Latitude')\n",
    "plt.ylabel('Max Temp')\n",
    "plt.annotate(line_eq,(5,20),fontsize=15,color=\"red\")\n",
    "plt.savefig(\"Figures/NorthRegression1.png\")\n",
    "plt.show();\n",
    "print(f\"The r-value is: {rvalue}\")"
   ]
  },
  {
   "cell_type": "markdown",
   "metadata": {},
   "source": [
    "* there is a strong correlation here.  The cities closer to the equator will have a higher max temperature. "
   ]
  },
  {
   "cell_type": "markdown",
   "metadata": {},
   "source": [
    "####  Southern Hemisphere - Max Temp vs. Latitude Linear Regression"
   ]
  },
  {
   "cell_type": "code",
   "execution_count": 15,
   "metadata": {},
   "outputs": [
    {
     "data": {
      "image/png": "[encoded data removed]",
      "text/plain": [
       "<Figure size 432x288 with 1 Axes>"
      ]
     },
     "metadata": {
      "needs_background": "light"
     },
     "output_type": "display_data"
    },
    {
     "name": "stdout",
     "output_type": "stream",
     "text": [
      "The r-value is: 0.6940163786124766\n"
     ]
    }
   ],
   "source": [
    "x_values = southern_df[\"Lat\"]\n",
    "y_values = southern_df[\"Max Temp\"]\n",
    "(slope, intercept, rvalue, pvalue, stderr) = linregress(x_values, y_values)\n",
    "regress_values = x_values * slope + intercept\n",
    "line_eq = \"y = \" + str(round(slope,2)) + \"x + \" + str(round(intercept,2))\n",
    "plt.scatter(x_values,y_values)\n",
    "plt.plot(x_values,regress_values,\"r-\")\n",
    "plt.xlabel('Latitude')\n",
    "plt.ylabel('Max Temp')\n",
    "plt.annotate(line_eq,(-25,55),fontsize=15,color=\"red\")\n",
    "plt.savefig(\"Figures/southernRegression1.png\")\n",
    "plt.show();\n",
    "print(f\"The r-value is: {rvalue}\")"
   ]
  },
  {
   "cell_type": "markdown",
   "metadata": {},
   "source": [
    "* perhaps I had more cities in the northern hemisphere because I would have thought a higher r-value would occur.  But there does still be a strong correlation that the further away from the equator one gets the colder the max temp"
   ]
  },
  {
   "cell_type": "markdown",
   "metadata": {},
   "source": [
    "####  Northern Hemisphere - Humidity (%) vs. Latitude Linear Regression"
   ]
  },
  {
   "cell_type": "code",
   "execution_count": 16,
   "metadata": {},
   "outputs": [
    {
     "data": {
      "image/png": "[encoded data removed]",
      "text/plain": [
       "<Figure size 432x288 with 1 Axes>"
      ]
     },
     "metadata": {
      "needs_background": "light"
     },
     "output_type": "display_data"
    },
    {
     "name": "stdout",
     "output_type": "stream",
     "text": [
      "The r-value is: 0.3392156871153811\n"
     ]
    }
   ],
   "source": [
    "x_values = northern_df[\"Lat\"]\n",
    "y_values = northern_df[\"Humidity\"]\n",
    "(slope, intercept, rvalue, pvalue, stderr) = linregress(x_values, y_values)\n",
    "regress_values = x_values * slope + intercept\n",
    "line_eq = \"y = \" + str(round(slope,2)) + \"x + \" + str(round(intercept,2))\n",
    "plt.scatter(x_values,y_values)\n",
    "plt.plot(x_values,regress_values,\"r-\")\n",
    "plt.xlabel('Latitude')\n",
    "plt.ylabel('Humidity')\n",
    "plt.annotate(line_eq,(45,10),fontsize=15,color=\"red\")\n",
    "plt.savefig(\"Figures/northernRegression2.png\")\n",
    "plt.show();\n",
    "print(f\"The r-value is: {rvalue}\")"
   ]
  },
  {
   "cell_type": "markdown",
   "metadata": {},
   "source": [
    "* very slight slope and r-value is low.  to the eye almost see the same points above and below the regression line. "
   ]
  },
  {
   "cell_type": "markdown",
   "metadata": {},
   "source": [
    "####  Southern Hemisphere - Humidity (%) vs. Latitude Linear Regression"
   ]
  },
  {
   "cell_type": "code",
   "execution_count": 17,
   "metadata": {},
   "outputs": [
    {
     "data": {
      "image/png": "[encoded data removed]",
      "text/plain": [
       "<Figure size 432x288 with 1 Axes>"
      ]
     },
     "metadata": {
      "needs_background": "light"
     },
     "output_type": "display_data"
    },
    {
     "name": "stdout",
     "output_type": "stream",
     "text": [
      "The r-value is: 0.16971254884474835\n"
     ]
    }
   ],
   "source": [
    "x_values = southern_df[\"Lat\"]\n",
    "y_values = southern_df[\"Humidity\"]\n",
    "(slope, intercept, rvalue, pvalue, stderr) = linregress(x_values, y_values)\n",
    "regress_values = x_values * slope + intercept\n",
    "line_eq = \"y = \" + str(round(slope,2)) + \"x + \" + str(round(intercept,2))\n",
    "plt.scatter(x_values,y_values)\n",
    "plt.plot(x_values,regress_values,\"r-\")\n",
    "plt.xlabel('Latitude')\n",
    "plt.ylabel('Humidity')\n",
    "plt.annotate(line_eq,(-25,10),fontsize=15,color=\"red\")\n",
    "plt.savefig(\"Figures/southernRegression2.png\")\n",
    "plt.show();\n",
    "print(f\"The r-value is: {rvalue}\")"
   ]
  },
  {
   "cell_type": "markdown",
   "metadata": {},
   "source": [
    "* in the soutthern hemisphere again the closer to the equator the more humidity but still varies a lot with some very low at the same latitude.  Very low r-value suggests there is no true correlation"
   ]
  },
  {
   "cell_type": "markdown",
   "metadata": {},
   "source": [
    "####  Northern Hemisphere - Cloudiness (%) vs. Latitude Linear Regression"
   ]
  },
  {
   "cell_type": "code",
   "execution_count": 18,
   "metadata": {},
   "outputs": [
    {
     "data": {
      "image/png": "[encoded data removed]",
      "text/plain": [
       "<Figure size 432x288 with 1 Axes>"
      ]
     },
     "metadata": {
      "needs_background": "light"
     },
     "output_type": "display_data"
    },
    {
     "name": "stdout",
     "output_type": "stream",
     "text": [
      "The r-value is: 0.15027628423265516\n"
     ]
    }
   ],
   "source": [
    "x_values = northern_df[\"Lat\"]\n",
    "y_values = northern_df[\"Cloudiness\"]\n",
    "(slope, intercept, rvalue, pvalue, stderr) = linregress(x_values, y_values)\n",
    "regress_values = x_values * slope + intercept\n",
    "line_eq = \"y = \" + str(round(slope,2)) + \"x + \" + str(round(intercept,2))\n",
    "plt.scatter(x_values,y_values)\n",
    "plt.plot(x_values,regress_values,\"r-\")\n",
    "plt.xlabel('Latitude')\n",
    "plt.ylabel('Cloudiness')\n",
    "plt.annotate(line_eq,(45,40),fontsize=15,color=\"red\")\n",
    "plt.savefig(\"Figures/northernRegression3.png\")\n",
    "plt.show();\n",
    "print(f\"The r-value is: {rvalue}\")"
   ]
  },
  {
   "cell_type": "markdown",
   "metadata": {},
   "source": [
    "* cloudiness varies throughout, no matter the latitude"
   ]
  },
  {
   "cell_type": "markdown",
   "metadata": {},
   "source": [
    "####  Southern Hemisphere - Cloudiness (%) vs. Latitude Linear Regression"
   ]
  },
  {
   "cell_type": "code",
   "execution_count": 19,
   "metadata": {},
   "outputs": [
    {
     "data": {
      "image/png": "[encoded data removed]",
      "text/plain": [
       "<Figure size 432x288 with 1 Axes>"
      ]
     },
     "metadata": {
      "needs_background": "light"
     },
     "output_type": "display_data"
    },
    {
     "name": "stdout",
     "output_type": "stream",
     "text": [
      "The r-value is: 0.18287091719876575\n"
     ]
    }
   ],
   "source": [
    "x_values = southern_df[\"Lat\"]\n",
    "y_values = southern_df[\"Cloudiness\"]\n",
    "(slope, intercept, rvalue, pvalue, stderr) = linregress(x_values, y_values)\n",
    "regress_values = x_values * slope + intercept\n",
    "line_eq = \"y = \" + str(round(slope,2)) + \"x + \" + str(round(intercept,2))\n",
    "plt.scatter(x_values,y_values)\n",
    "plt.plot(x_values,regress_values,\"r-\")\n",
    "plt.xlabel('Latitude')\n",
    "plt.ylabel('Cloudiness')\n",
    "plt.annotate(line_eq,(-57,10),fontsize=15,color=\"red\")\n",
    "plt.savefig(\"Figures/sourthernRegression3.png\")\n",
    "plt.show();\n",
    "print(f\"The r-value is: {rvalue}\")"
   ]
  },
  {
   "cell_type": "markdown",
   "metadata": {},
   "source": [
    "* similar the the northern hemisphere, the cloudiness varies throughout no matte rthe lattitude.  There does seem to be more bunched up in general between 0 and -10 but again, varries from none to 100. Nothing tells me living in a certain city will give me less clouds on any particular day."
   ]
  },
  {
   "cell_type": "markdown",
   "metadata": {},
   "source": [
    "####  Northern Hemisphere - Wind Speed (mph) vs. Latitude Linear Regression"
   ]
  },
  {
   "cell_type": "code",
   "execution_count": 20,
   "metadata": {},
   "outputs": [
    {
     "data": {
      "image/png": "[encoded data removed]",
      "text/plain": [
       "<Figure size 432x288 with 1 Axes>"
      ]
     },
     "metadata": {
      "needs_background": "light"
     },
     "output_type": "display_data"
    },
    {
     "name": "stdout",
     "output_type": "stream",
     "text": [
      "The r-value is: 0.007303224769295453\n"
     ]
    }
   ],
   "source": [
    "x_values = northern_df[\"Lat\"]\n",
    "y_values = northern_df[\"Wind Speed\"]\n",
    "(slope, intercept, rvalue, pvalue, stderr) = linregress(x_values, y_values)\n",
    "regress_values = x_values * slope + intercept\n",
    "line_eq = \"y = \" + str(round(slope,2)) + \"x + \" + str(round(intercept,2))\n",
    "plt.scatter(x_values,y_values)\n",
    "plt.plot(x_values,regress_values,\"r-\")\n",
    "plt.xlabel('Latitude')\n",
    "plt.ylabel('Wind Speed')\n",
    "plt.annotate(line_eq,(5,30),fontsize=15,color=\"red\")\n",
    "plt.savefig(\"Figures/northernRegression4.png\")\n",
    "plt.show();\n",
    "print(f\"The r-value is: {rvalue}\")"
   ]
  },
  {
   "cell_type": "markdown",
   "metadata": {},
   "source": [
    "*virtually no correlation at all between latitude and wind speed, as the straight line would indicate"
   ]
  },
  {
   "cell_type": "markdown",
   "metadata": {},
   "source": [
    "####  Southern Hemisphere - Wind Speed (mph) vs. Latitude Linear Regression"
   ]
  },
  {
   "cell_type": "code",
   "execution_count": 21,
   "metadata": {},
   "outputs": [
    {
     "data": {
      "image/png": "[encoded data removed]",
      "text/plain": [
       "<Figure size 432x288 with 1 Axes>"
      ]
     },
     "metadata": {
      "needs_background": "light"
     },
     "output_type": "display_data"
    },
    {
     "name": "stdout",
     "output_type": "stream",
     "text": [
      "The r-value is: -0.27260070721059376\n"
     ]
    }
   ],
   "source": [
    "x_values = southern_df[\"Lat\"]\n",
    "y_values = southern_df[\"Wind Speed\"]\n",
    "(slope, intercept, rvalue, pvalue, stderr) = linregress(x_values, y_values)\n",
    "regress_values = x_values * slope + intercept\n",
    "line_eq = \"y = \" + str(round(slope,2)) + \"x + \" + str(round(intercept,2))\n",
    "plt.scatter(x_values,y_values)\n",
    "plt.plot(x_values,regress_values,\"r-\")\n",
    "plt.xlabel('Latitude')\n",
    "plt.ylabel('Wind Speed')\n",
    "plt.annotate(line_eq,(-45,25),fontsize=15,color=\"red\")\n",
    "plt.savefig(\"Figures/northernRegression4.png\")\n",
    "plt.show();\n",
    "print(f\"The r-value is: {rvalue}\")"
   ]
  },
  {
   "cell_type": "markdown",
   "metadata": {},
   "source": [
    "* slight negative regression line seems to indicate less windy conditions as we get closer to the equator"
   ]
  },
  {
   "cell_type": "code",
   "execution_count": null,
   "metadata": {},
   "outputs": [],
   "source": []
  }
 ],
 "metadata": {
  "anaconda-cloud": {},
  "kernel_info": {
   "name": "python3"
  },
  "kernelspec": {
   "display_name": "Python 3",
   "language": "python",
   "name": "python3"
  },
  "language_info": {
   "codemirror_mode": {
    "name": "ipython",
    "version": 3
   },
   "file_extension": ".py",
   "mimetype": "text/x-python",
   "name": "python",
   "nbconvert_exporter": "python",
   "pygments_lexer": "ipython3",
   "version": "3.8.5"
  },
  "latex_envs": {
   "LaTeX_envs_menu_present": true,
   "autoclose": false,
   "autocomplete": true,
   "bibliofile": "biblio.bib",
   "cite_by": "apalike",
   "current_citInitial": 1,
   "eqLabelWithNumbers": true,
   "eqNumInitial": 1,
   "hotkeys": {
    "equation": "Ctrl-E",
    "itemize": "Ctrl-I"
   },
   "labels_anchors": false,
   "latex_user_defs": false,
   "report_style_numbering": false,
   "user_envs_cfg": false
  },
  "nteract": {
   "version": "0.12.3"
  }
 },
 "nbformat": 4,
 "nbformat_minor": 4
}
